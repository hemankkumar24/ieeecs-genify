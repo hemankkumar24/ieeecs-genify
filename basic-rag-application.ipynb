{
 "cells": [
  {
   "cell_type": "markdown",
   "id": "1c6c105d-f473-439b-b505-1e6f1afa7441",
   "metadata": {},
   "source": [
    "# Imports"
   ]
  },
  {
   "cell_type": "code",
   "execution_count": 1,
   "id": "743ac7bd-b355-4ed3-a602-a831c980cd3c",
   "metadata": {},
   "outputs": [],
   "source": [
    "# Importing Chroma from Langchain Framework\n",
    "from langchain_community.vectorstores import Chroma\n",
    "\n",
    "# This line imports the HuggingFaceEmbeddings class, which lets you use pre-trained Hugging Face models to convert text into numerical vectors \n",
    "#. These embeddings are used for tasks like semantic search, similarity comparison, or feeding into vector databases like Chroma.\n",
    "from langchain_community.embeddings import HuggingFaceEmbeddings\n",
    "\n",
    "# Import a text splitter that breaks large texts into smaller chunks based on character count (useful for chunking documents before embedding)\n",
    "from langchain.text_splitter import CharacterTextSplitter\n",
    "\n",
    "# Import a PDF loader that reads PDF files and converts each page into a LangChain Document object\n",
    "from langchain_community.document_loaders import PDFPlumberLoader\n",
    "\n",
    "# Import the prompt template system to structure chat prompts with variables and roles (e.g., system/human)\n",
    "from langchain.prompts import ChatPromptTemplate\n",
    "\n",
    "# Import the Ollama-compatible LLM wrapper for chatting with local models like LLaMA via LangChain\n",
    "from langchain_community.chat_models import ChatOllama\n",
    "\n",
    "import warnings\n",
    "warnings.filterwarnings(\"ignore\")"
   ]
  },
  {
   "cell_type": "markdown",
   "id": "53e38d73-800b-4470-88bf-8d2e970dc4ab",
   "metadata": {},
   "source": [
    "## 📥 Step 1: Document Ingestion\n",
    "We load the source documents (e.g., a PDF) to extract text content for further processing."
   ]
  },
  {
   "cell_type": "code",
   "execution_count": 2,
   "id": "25140cae-d1a3-40a2-91b0-b9af380a1311",
   "metadata": {},
   "outputs": [],
   "source": [
    "# Directory for our Vector Database\n",
    "directory = \"my_chroma_db\"\n",
    "\n",
    "# Choose a sentence transformer model (like 'all-MiniLM-L6-v2')\n",
    "embedding_model = HuggingFaceEmbeddings(model_name=\"all-MiniLM-L6-v2\")\n",
    "\n",
    "# Load the full PDF containing William Shakespeare's historical biography for text extraction and analysis\n",
    "pdf_path = \"pdf_used.pdf\""
   ]
  },
  {
   "cell_type": "code",
   "execution_count": 3,
   "id": "62032cad-dfb9-4cb8-a390-04b655641f82",
   "metadata": {},
   "outputs": [],
   "source": [
    "# Wrap the string into a list of Document\n",
    "loader = PDFPlumberLoader(pdf_path)\n",
    "documents = loader.load()"
   ]
  },
  {
   "cell_type": "code",
   "execution_count": 4,
   "id": "065de93a-51e4-4e94-abe5-63196a2fcdda",
   "metadata": {
    "scrolled": true
   },
   "outputs": [
    {
     "name": "stdout",
     "output_type": "stream",
     "text": [
      "Document #0:\n",
      "# **The Life, Times, and Works of William Shakespeare: An Exhaustive History**\n",
      "### **Introduction: The Paradox of the Bard**\n",
      "William Shakespeare stands as the undisputed titan of world literature, a cultural monument so vast and enduring that his name is\n",
      "synonymous with the very art of writing. His works—a staggering collection of some 39 plays, 154 sonnets, and several long narrative\n",
      "poems—represent the pinnacle of achievement in the English language. They have been translated into every major tongue,\n",
      "performed on countless stages from high school auditoriums to the grandest national theatres, and adapted into every conceivable\n",
      "medium. He is, as his contemporary Ben Jonson so presciently declared, \"not of an age, but for all time.\"\n",
      "Yet, behind this colossal literary legacy stands a man whose life is known to us only in frustratingly sparse detail. We have the public\n",
      "records: a baptismal certificate, a marriage license, property deeds, a last will and testament, and a few contemporary mentions, some\n",
      "complimentary, some envious. But we have no letters, no diaries, no personal manuscripts that reveal his inner thoughts, his creative\n",
      "process, or his private opinions. This creates a profound paradox: we know the universe of his imagination intimately, yet the man who\n",
      "created it remains a silhouette against the backdrop of his own era.\n",
      "To truly understand the history of Shakespeare, one must therefore undertake a threefold investigation. First, we must meticulously\n",
      "assemble the biographical fragments of the man from Stratford-upon-Avon, charting his journey from the son of a provincial glover to\n",
      "a wealthy London gentleman. Second, we must immerse ourselves in his world: the vibrant, dangerous, and intellectually charged\n",
      "England of the late sixteenth and early seventeenth centuries. His genius was not born in a vacuum; it was forged in the crucible of the\n",
      "English Renaissance, a period of immense political change, religious turmoil, and social mobility, transitioning from the confident\n",
      "\"Golden Age\" of Queen Elizabeth I to the more uncertain and complex Jacobean era. Finally, we must turn to the works themselves, for\n",
      "it is there that the man's true history is written. The evolution of his style, the recurring themes of love, loss, ambition, and redemption,\n",
      "and the unparalleled depth of his characters provide the most intimate portrait we will ever have. This exhaustive history aims to weave\n",
      "these three threads together, presenting a comprehensive narrative of the life, times, and enduring legacy of William Shakespeare.\n",
      "---\n",
      "\n",
      "--------------------------------------------------\n",
      "Document #1:\n",
      "### **Chapter 1: The Man from Stratford**\n",
      "Every aspect of Shakespeare's work is colored by his origins. His understanding of nature, his grasp of social hierarchy, his fascination\n",
      "with legal and financial matters, and the very texture of his language are rooted in his life in the prosperous market town of Stratford-\n",
      "upon-Avon.\n",
      "**Section 1.1: Birth, Parents, and Early Stratford Life**\n",
      "**William Shakespeare was born in Stratford-upon-Avon, Warwickshire, in April 1564.** While his exact birthdate is not recorded,\n",
      "tradition holds it to be **April 23, 1564**, a date that conveniently aligns with the date of his death 52 years later. The official record we\n",
      "possess is that of his baptism at Holy Trinity Church on **April 26, 1564**. He was the third of eight children, and the eldest surviving\n",
      "son, of John Shakespeare and Mary Arden.\n",
      "His father, John, was a figure of significant local importance and a model of the era's potential for social mobility. He was a skilled\n",
      "craftsman, working primarily as a glover and whittawer (a tanner of white leather), but his ambition extended far beyond his workshop.\n",
      "He dealt in various commodities, including wool—at times illegally, a risky but highly profitable enterprise—and engaged in money-\n",
      "lending. John systematically climbed the ladder of civic responsibility in Stratford. He served in a series of municipal roles, including ale-\n",
      "taster, constable, and eventually alderman, culminating in his election as High Bailiff (the equivalent of a mayor) in 1568. During his\n",
      "term, he would have been responsible for licensing visiting troupes of actors, an experience that likely gave the young William his first\n",
      "taste of professional theatre.\n",
      "Shakespeare's mother, Mary Arden, came from a more elevated social standing. She was the daughter of Robert Arden, a member of\n",
      "the landed gentry whose family was of notable antiquity in Warwickshire. When her father died, Mary inherited a substantial amount of\n",
      "property, including the farm known as Wilmcote. Her marriage to John Shakespeare represented a union of civic ambition and\n",
      "established rural gentry. Importantly, the Arden family retained strong ties to the Catholic faith, which had been outlawed by Queen\n",
      "Elizabeth I. This connection, combined with John Shakespeare’s abrupt withdrawal from civic life in the late 1570s and his being fined\n",
      "for recusancy (not attending mandatory Protestant church services), has led many scholars to believe that William was raised in a\n",
      "household with divided or secret Catholic sympathies. This undercurrent of religious persecution and hidden faith would become a\n",
      "\n",
      "--------------------------------------------------\n",
      "Document #2:\n",
      "powerful theme in many of his plays, particularly in the exploration of divided loyalties and equivocation.\n",
      "**Section 1.2: Education and the Classical Foundation**\n",
      "As the son of the High Bailiff, William was entitled to a free education at the King's New School, Stratford's excellent grammar school.\n",
      "Though no attendance records survive, his position and the clear evidence in his plays make his attendance a virtual certainty. The\n",
      "education offered was intensely rigorous and almost entirely based on Latin. The curriculum would have been standardized across\n",
      "England, centered on William Lily's *Latin Grammar*. Students were subjected to relentless drills in rote memorization, composition,\n",
      "and translation from English to Latin and vice versa.\n",
      "The core of his education was the study of the great Roman authors. He would have read the comedies of Plautus and Terence, which\n",
      "provided him with models for dramatic structure and character types. He would have studied the stoic tragedies of Seneca, with their\n",
      "long, rhetorical speeches and themes of bloody revenge, an influence clearly visible in a play like *Titus Andronicus*. Above all, he\n",
      "would have immersed himself in the poetry of Ovid, whose epic *Metamorphoses* became Shakespeare's single most important\n",
      "literary source, a veritable handbook of mythology that he would plunder for plots, allusions, and imagery throughout his career. He\n",
      "would also have been trained in the arts of rhetoric—the formal study of persuasive speaking and writing—mastering figures of\n",
      "speech, logical arguments, and stylistic flourishes as laid out by classical authors like Cicero and Quintilian. This training is evident in\n",
      "the stunning courtroom scene of *The Merchant of Venice* and the masterful political orations in *Julius Caesar*. This classical,\n",
      "humanistic education provided the bedrock upon which he built his entire literary career.\n",
      "**Section 1.3: Marriage, Family, and the \"Lost Years\"**\n",
      "His formal education likely ended around the age of 15, a common practice for a boy of his class needed to assist in the family's\n",
      "business, which by then was in decline. The next concrete record of his life is both personal and hurried. In **November 1582**, an 18-\n",
      "year-old William Shakespeare married **Anne Hathaway**, the 26-year-old daughter of a local farmer. A special license was procured\n",
      "to allow the marriage to proceed with only one reading of the banns instead of the customary three, and a bond of £40 was posted by\n",
      "two of Hathaway's neighbors to indemnify the bishop should any legal impediment to the marriage arise. The reason for this haste\n",
      "became apparent six months later with the baptism of their first child, **Susanna**, in May 1583. In early 1585, Anne gave birth to\n",
      "twins, a boy named **Hamnet** and a girl named **Judith**.\n",
      "\n",
      "--------------------------------------------------\n"
     ]
    }
   ],
   "source": [
    "# Feel free to check these out if you're curious.\n",
    "for i, doc in enumerate(documents[0:3]):\n",
    "    print(f\"Document #{0 + i}:\")\n",
    "    print(doc.page_content)\n",
    "    print(\"-\" * 50)"
   ]
  },
  {
   "cell_type": "markdown",
   "id": "a620cade-f49a-404f-838b-97c9eaf3abe0",
   "metadata": {},
   "source": [
    "## ✂️ Text Chunking\n",
    "Breaking large documents into smaller chunks"
   ]
  },
  {
   "cell_type": "code",
   "execution_count": 5,
   "id": "a6df62a8-b3de-4cef-992d-3126f91d9e33",
   "metadata": {},
   "outputs": [],
   "source": [
    "# Split the input text into smaller chunks of 500 characters each with no overlap.\n",
    "# This helps in feeding manageable pieces of content into a vector store or embedding model.\n",
    "text_splitter = CharacterTextSplitter(chunk_size=500, chunk_overlap=0)\n",
    "docs = text_splitter.split_documents(documents)"
   ]
  },
  {
   "cell_type": "markdown",
   "id": "e2032bb0-6ea6-4b36-a182-6a90b3b59257",
   "metadata": {},
   "source": [
    "## 🧠 Embedding and Storing in Vector Database (ChromaDB)\n",
    "Each chunk is converted into a vector (embedding) and stored in a vector database for similarity search."
   ]
  },
  {
   "cell_type": "code",
   "execution_count": 6,
   "id": "0405c802-1211-4ab7-9cea-0ed8c2e86558",
   "metadata": {},
   "outputs": [],
   "source": [
    "# Create a Chroma vector database from the list of document chunks.\n",
    "# - docs: List of text chunks to embed and store.\n",
    "# - embedding_model: Embedding function used to convert text into vector representations.\n",
    "# - persist_directory: Folder where the vector store will be saved for later use.\n",
    "db = Chroma.from_documents(\n",
    "docs, embedding_model, persist_directory=directory)"
   ]
  },
  {
   "cell_type": "code",
   "execution_count": 7,
   "id": "779f4e42-4df0-4cc9-8b30-77163cd7c30d",
   "metadata": {},
   "outputs": [],
   "source": [
    "# Ask a question\n",
    "query = input(\"Ask a question about the document: \")"
   ]
  },
  {
   "cell_type": "markdown",
   "id": "eec19fde-bcfd-4472-8cc1-a2187b1d4054",
   "metadata": {},
   "source": [
    "## 🔍 Step 2: Retrieval\n",
    "Based on a user query, the top relevant chunks are retrieved from the vector store using semantic similarity."
   ]
  },
  {
   "cell_type": "code",
   "execution_count": 8,
   "id": "b54d4aaa-0580-47c4-821c-4327589c62b3",
   "metadata": {},
   "outputs": [],
   "source": [
    "# Perform semantic similarity search on the vector database.\n",
    "# Retrieves the top 3 document chunks most similar to the user's query.\n",
    "# These chunks will be used as context for answering the query via the LLM.\n",
    "docs = db.similarity_search(query, k=3)\n",
    "# Combine the page content from all retrieved documents into a single context string\n",
    "context = \"\\n\\n\".join([doc.page_content for doc in docs])"
   ]
  },
  {
   "cell_type": "code",
   "execution_count": 9,
   "id": "e5404304-2133-4924-91cc-5eba9edea589",
   "metadata": {},
   "outputs": [
    {
     "name": "stdout",
     "output_type": "stream",
     "text": [
      "Retrieved Data #1\n",
      "### **Chapter 1: The Man from Stratford**\n",
      "Every aspect of Shakespeare's work is colored by his origins. His understanding of nature, his grasp of social hierarchy, his fascination\n",
      "with legal and financial matters, and the very texture of his language are rooted in his life in the prosperous market town of Stratford-\n",
      "upon-Avon.\n",
      "**Section 1.1: Birth, Parents, and Early Stratford Life**\n",
      "**William Shakespeare was born in Stratford-upon-Avon, Warwickshire, in April 1564.** While his exact birthdate is not recorded,\n",
      "tradition holds it to be **April 23, 1564**, a date that conveniently aligns with the date of his death 52 years later. The official record we\n",
      "possess is that of his baptism at Holy Trinity Church on **April 26, 1564**. He was the third of eight children, and the eldest surviving\n",
      "son, of John Shakespeare and Mary Arden.\n",
      "His father, John, was a figure of significant local importance and a model of the era's potential for social mobility. He was a skilled\n",
      "craftsman, working primarily as a glover and whittawer (a tanner of white leather), but his ambition extended far beyond his workshop.\n",
      "He dealt in various commodities, including wool—at times illegally, a risky but highly profitable enterprise—and engaged in money-\n",
      "lending. John systematically climbed the ladder of civic responsibility in Stratford. He served in a series of municipal roles, including ale-\n",
      "taster, constable, and eventually alderman, culminating in his election as High Bailiff (the equivalent of a mayor) in 1568. During his\n",
      "term, he would have been responsible for licensing visiting troupes of actors, an experience that likely gave the young William his first\n",
      "taste of professional theatre.\n",
      "Shakespeare's mother, Mary Arden, came from a more elevated social standing. She was the daughter of Robert Arden, a member of\n",
      "the landed gentry whose family was of notable antiquity in Warwickshire. When her father died, Mary inherited a substantial amount of\n",
      "property, including the farm known as Wilmcote. Her marriage to John Shakespeare represented a union of civic ambition and\n",
      "established rural gentry. Importantly, the Arden family retained strong ties to the Catholic faith, which had been outlawed by Queen\n",
      "Elizabeth I. This connection, combined with John Shakespeare’s abrupt withdrawal from civic life in the late 1570s and his being fined\n",
      "for recusancy (not attending mandatory Protestant church services), has led many scholars to believe that William was raised in a\n",
      "household with divided or secret Catholic sympathies. This undercurrent of religious persecution and hidden faith would become a\n",
      "-------------------------\n",
      "Retrieved Data #2\n",
      "the local tithes, which gave him a return on agricultural produce from a large area of farmland. These acquisitions made him one of\n",
      "Stratford's most significant property owners. In 1596, his father John was finally granted a coat of arms, an ambition he had long held.\n",
      "This officially elevated the Shakespeare family to the status of gentry, a status William's wealth had made possible. He was no longer\n",
      "just a player; he was William Shakespeare, Gentleman.\n",
      "**Section 4.2: Final Years, Death, and Burial**\n",
      "From about 1611 onwards, Shakespeare appears to have spent most of his time at New Place in Stratford, semi-retired from the\n",
      "constant pressure of the London stage. He was involved in local life, attending to his business interests, socializing with his peers, and\n",
      "dealing with family matters.\n",
      "In March 1616, feeling his health was failing, he dictated his last will and testament. The document carefully distributes his large estate,\n",
      "leaving the bulk of it to his elder daughter Susanna and her husband, the respected physician Dr. John Hall. His most talked-about\n",
      "bequest was to his wife of 34 years, Anne: \"I gyve unto my wief my second best bed with the furniture.\" While some have seen this as a\n",
      "slight, many scholars now interpret it as a sentimental gesture, as the second-best bed in a prosperous house was typically the marital\n",
      "bed, while the best was reserved for guests.\n",
      "**William Shakespeare died on April 23, 1616**, at the age of 52. The cause of his death is unknown, though a later account from a\n",
      "local vicar claimed he contracted a fever after a \"merry meeting\" with his friends Ben Jonson and Michael Drayton. He was buried in a\n",
      "place of high honor, inside the chancel of Holy Trinity Church. A funerary monument, erected a few years later, shows him in the act of\n",
      "writing. His gravestone bears a famous inscription, believed to have been written by Shakespeare himself as a warning to would-be\n",
      "grave robbers:\n",
      "> *Good frend for Jesus sake forbeare,*\n",
      "> *To digg the dust encloased heare.*\n",
      "> *Bleste be ye man yt spares thes stones,*\n",
      "> *And curst be he yt moves my bones.*\n",
      "**Section 4.3: The First Folio: Securing Immortality**\n",
      "-------------------------\n",
      "Retrieved Data #3\n",
      "After *The Tempest*, Shakespeare largely retired, but he collaborated with the young, rising playwright John Fletcher on several final\n",
      "plays, including *Henry VIII* and *The Two Noble Kinsmen*.\n",
      "**Section 3.5: The Non-Dramatic Works: Poems and Sonnets**\n",
      "While primarily a man of the theatre, Shakespeare was also a magnificent poet. When a severe outbreak of the plague closed the\n",
      "London theatres from 1592 to 1594, he turned his hand to narrative poetry to secure an aristocratic patron. He published two long\n",
      "poems dedicated to the Earl of Southampton: *Venus and Adonis*, a sensuous and tragic Ovidian tale, and *The Rape of Lucrece*, a\n",
      "darker and more moralistic Roman story. Both were immensely popular and established his reputation as a serious poet.\n",
      "His most famous poetic achievement, however, is his sequence of **154 sonnets**, published in **1609**, likely without his\n",
      "permission. These poems are intensely personal and enigmatic. The majority are addressed to a beautiful young man (the \"Fair\n",
      "Youth\"), urging him to marry and have children to preserve his beauty, and exploring the power of poetry to grant immortality. A\n",
      "smaller, later group is addressed to a mysterious and sexually promiscuous woman (the \"Dark Lady\"). Written in the \"Shakespearean\"\n",
      "sonnet form (three quatrains and a concluding couplet), they explore the timeless themes of love, beauty, desire, betrayal, and the\n",
      "devastating passage of time with unparalleled psychological depth and linguistic brilliance.\n",
      "---\n",
      "### **Chapter 4: The Gentleman of Stratford and His Immortal Legacy**\n",
      "Shakespeare led a remarkable dual life. While he was the heart of the London theatre world, he remained deeply rooted in Stratford,\n",
      "systematically using his newfound wealth to restore his family's name and secure his own status as a respected country gentleman.\n",
      "**Section 4.1: The Wealthy Businessman**\n",
      "Shakespeare was a highly astute businessman. The income from his shares in the King's Men and the Globe Theatre was substantial,\n",
      "and he invested it wisely in his hometown. In **1597**, he made a major statement by purchasing **New Place**, the second-largest\n",
      "house in Stratford, for his family. In 1602, he bought 107 acres of arable land, and in 1605, he made a large and lucrative investment in\n",
      "-------------------------\n"
     ]
    }
   ],
   "source": [
    "# Print each retrieved document's content \n",
    "for idx,doc in enumerate(docs):\n",
    "    print(f\"Retrieved Data #{idx+1}\")\n",
    "    print(doc.page_content)\n",
    "    print(\"-\" * 25)"
   ]
  },
  {
   "cell_type": "markdown",
   "id": "dadbd43e-d55d-466c-9e9b-b8905b4aa9e1",
   "metadata": {},
   "source": [
    "## 🧾 Step 3: Augmentation\n",
    "The retrieved context is combined with the user query to form a prompt for the LLM."
   ]
  },
  {
   "cell_type": "code",
   "execution_count": 10,
   "id": "5de738e2-ddc3-42d3-b1e5-bbb91c5f4f0b",
   "metadata": {},
   "outputs": [],
   "source": [
    "# Define a teacher-style prompt using system/user roles with placeholders for context and query\n",
    "messages = [\n",
    "    (\"system\", \"You are a knowledgeable teacher. Answer the question using only the provided context:\\n\\n{context}\\n\\nIf the answer isn't in the context, say: 'Sorry, I couldn’t find the answer in the given material.'\"),\n",
    "    (\"human\", \"{query}\")\n",
    "]"
   ]
  },
  {
   "cell_type": "code",
   "execution_count": 11,
   "id": "0a6b3c81-7a4f-47f4-8411-8cacbcad57d6",
   "metadata": {},
   "outputs": [],
   "source": [
    "# Define a chat prompt template from the structured message list\n",
    "prompt_template = ChatPromptTemplate.from_messages(messages)\n",
    "\n",
    "# Load the LLaMA 3.2 model locally using Ollama\n",
    "llm = ChatOllama(model=\"llama3.2\")"
   ]
  },
  {
   "cell_type": "markdown",
   "id": "3d80bbdb-c0c0-44ae-a1cc-956d82cb41d0",
   "metadata": {},
   "source": [
    "## 🧠 Step 4: Generation \n",
    "The prompt is passed to the LLM (e.g., LLaMA via Ollama) to generate a final answer using both query and retrieved context."
   ]
  },
  {
   "cell_type": "code",
   "execution_count": 12,
   "id": "ac72b72c-2157-4514-9e59-2ce3b3915d2d",
   "metadata": {},
   "outputs": [
    {
     "name": "stdout",
     "output_type": "stream",
     "text": [
      "\n",
      "Answer:\n",
      "\n",
      "Shakespeare died on April 23, 1616.\n"
     ]
    }
   ],
   "source": [
    "# Pipe the prompt into the LLM using LangChain's chaining syntax\n",
    "chain = prompt_template | llm\n",
    "\n",
    "# Invoke the chain with input variables\n",
    "response = chain.invoke({\"context\": context, \"query\": query})\n",
    "\n",
    "# Print the generated answer from the model\n",
    "print(\"\\nAnswer:\\n\")\n",
    "print(response.content)"
   ]
  }
 ],
 "metadata": {
  "kernelspec": {
   "display_name": "tf_gpu",
   "language": "python",
   "name": "python3"
  },
  "language_info": {
   "codemirror_mode": {
    "name": "ipython",
    "version": 3
   },
   "file_extension": ".py",
   "mimetype": "text/x-python",
   "name": "python",
   "nbconvert_exporter": "python",
   "pygments_lexer": "ipython3",
   "version": "3.9.23"
  }
 },
 "nbformat": 4,
 "nbformat_minor": 5
}
